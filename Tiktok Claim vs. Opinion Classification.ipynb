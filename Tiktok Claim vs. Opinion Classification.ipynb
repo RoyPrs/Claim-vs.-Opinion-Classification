{
 "cells": [
  {
   "cell_type": "markdown",
   "id": "d1d50315-7e75-4290-86a9-5cc4d11838e6",
   "metadata": {},
   "source": [
    "# TikTok Claim vs. Opinion Classifier\n",
    "\n",
    "With misinformation rising on short-form video platforms, I designed and evaluated a language model that distinguishes factual claims from personal opinions in TikTok content. I used bag-of-words CountVectorizer implemented in  and achieved an accuracy score of 100%."
   ]
  },
  {
   "cell_type": "code",
   "execution_count": 1,
   "id": "85cde872-d69c-434a-a8d6-31b1a2394184",
   "metadata": {},
   "outputs": [],
   "source": [
    "import pandas as pd\n",
    "import numpy as np\n",
    "\n",
    "from sklearn.model_selection import train_test_split, GridSearchCV\n",
    "from sklearn.feature_extraction.text import CountVectorizer\n"
   ]
  },
  {
   "cell_type": "markdown",
   "id": "62f379ea-36c8-47ca-931f-64f6330aa0f1",
   "metadata": {},
   "source": [
    "## Load, Clean, and Split the Data"
   ]
  },
  {
   "cell_type": "code",
   "execution_count": 2,
   "id": "6d8a7b39-b93e-4057-94f4-dd6b7038ab29",
   "metadata": {},
   "outputs": [
    {
     "data": {
      "text/plain": [
       "(19382, 12)"
      ]
     },
     "execution_count": 2,
     "metadata": {},
     "output_type": "execute_result"
    }
   ],
   "source": [
    "data = pd.read_csv(\"tiktok_dataset.csv\")\n",
    "data.shape"
   ]
  },
  {
   "cell_type": "code",
   "execution_count": 9,
   "id": "4125d280-3d90-4759-94c2-345d2e7f3348",
   "metadata": {},
   "outputs": [
    {
     "data": {
      "text/html": [
       "<div>\n",
       "<style scoped>\n",
       "    .dataframe tbody tr th:only-of-type {\n",
       "        vertical-align: middle;\n",
       "    }\n",
       "\n",
       "    .dataframe tbody tr th {\n",
       "        vertical-align: top;\n",
       "    }\n",
       "\n",
       "    .dataframe thead th {\n",
       "        text-align: right;\n",
       "    }\n",
       "</style>\n",
       "<table border=\"1\" class=\"dataframe\">\n",
       "  <thead>\n",
       "    <tr style=\"text-align: right;\">\n",
       "      <th></th>\n",
       "      <th>video_transcription_text</th>\n",
       "      <th>claim_status</th>\n",
       "    </tr>\n",
       "  </thead>\n",
       "  <tbody>\n",
       "    <tr>\n",
       "      <th>0</th>\n",
       "      <td>someone shared with me that drone deliveries a...</td>\n",
       "      <td>claim</td>\n",
       "    </tr>\n",
       "    <tr>\n",
       "      <th>1</th>\n",
       "      <td>someone shared with me that there are more mic...</td>\n",
       "      <td>claim</td>\n",
       "    </tr>\n",
       "    <tr>\n",
       "      <th>2</th>\n",
       "      <td>someone shared with me that american industria...</td>\n",
       "      <td>claim</td>\n",
       "    </tr>\n",
       "    <tr>\n",
       "      <th>3</th>\n",
       "      <td>someone shared with me that the metro of st. p...</td>\n",
       "      <td>claim</td>\n",
       "    </tr>\n",
       "    <tr>\n",
       "      <th>4</th>\n",
       "      <td>someone shared with me that the number of busi...</td>\n",
       "      <td>claim</td>\n",
       "    </tr>\n",
       "  </tbody>\n",
       "</table>\n",
       "</div>"
      ],
      "text/plain": [
       "                            video_transcription_text claim_status\n",
       "0  someone shared with me that drone deliveries a...        claim\n",
       "1  someone shared with me that there are more mic...        claim\n",
       "2  someone shared with me that american industria...        claim\n",
       "3  someone shared with me that the metro of st. p...        claim\n",
       "4  someone shared with me that the number of busi...        claim"
      ]
     },
     "execution_count": 9,
     "metadata": {},
     "output_type": "execute_result"
    }
   ],
   "source": [
    "df = data[['video_transcription_text', 'claim_status']].copy()\n",
    "del data\n",
    "df.head()"
   ]
  },
  {
   "cell_type": "code",
   "execution_count": 12,
   "id": "aea46872-074c-493d-be1a-9866a7e7149c",
   "metadata": {},
   "outputs": [
    {
     "data": {
      "text/plain": [
       "video_transcription_text    298\n",
       "claim_status                298\n",
       "dtype: int64"
      ]
     },
     "execution_count": 12,
     "metadata": {},
     "output_type": "execute_result"
    }
   ],
   "source": [
    "df.isna().sum()"
   ]
  },
  {
   "cell_type": "code",
   "execution_count": 13,
   "id": "6a58619f-d8cc-4552-81b9-3cc15d3103f8",
   "metadata": {},
   "outputs": [
    {
     "data": {
      "text/plain": [
       "(19382, 2)"
      ]
     },
     "execution_count": 13,
     "metadata": {},
     "output_type": "execute_result"
    }
   ],
   "source": [
    "df.shape"
   ]
  },
  {
   "cell_type": "code",
   "execution_count": 14,
   "id": "dc627719-4391-4b35-b18a-11ccf4c132e8",
   "metadata": {},
   "outputs": [
    {
     "data": {
      "text/plain": [
       "video_transcription_text    0\n",
       "claim_status                0\n",
       "dtype: int64"
      ]
     },
     "execution_count": 14,
     "metadata": {},
     "output_type": "execute_result"
    }
   ],
   "source": [
    "df.dropna(inplace=True)\n",
    "df.isna().sum()\n"
   ]
  },
  {
   "cell_type": "code",
   "execution_count": 15,
   "id": "80917acb-1899-42a2-ab73-e60921a7782b",
   "metadata": {},
   "outputs": [
    {
     "data": {
      "text/plain": [
       "(19084, 2)"
      ]
     },
     "execution_count": 15,
     "metadata": {},
     "output_type": "execute_result"
    }
   ],
   "source": [
    "df.shape"
   ]
  },
  {
   "cell_type": "code",
   "execution_count": 20,
   "id": "74a85aac-cb70-49ef-9e3c-0a46f14e9e6a",
   "metadata": {},
   "outputs": [
    {
     "data": {
      "text/plain": [
       "claim_status\n",
       "claim      0.5056\n",
       "opinion    0.4944\n",
       "Name: proportion, dtype: float64"
      ]
     },
     "execution_count": 20,
     "metadata": {},
     "output_type": "execute_result"
    }
   ],
   "source": [
    "y_train.value_counts(normalize=True)"
   ]
  },
  {
   "cell_type": "markdown",
   "id": "fcafd040-e6f3-4e5d-935b-1a74e4f137c7",
   "metadata": {},
   "source": [
    "## Representing Text Data as a Bag of Words\n",
    "\n",
    "Computing the bag-of-words representation for a corpus of documents consists of the following three steps:\n",
    "1. **Tokenization**. Split each document into the words that appear in it (called tokens),\n",
    "for example by splitting them on whitespace and punctuation.\n",
    "2. **Vocabulary building**. Collect a vocabulary of all words that appear in any of the\n",
    "documents, and number them (say, in alphabetical order).\n",
    "3. **Encoding**. For each document, count how often each of the words in the vocabu‐\n",
    "lary appear in this document.\n",
    "\n",
    "The output is one vector of word counts for each document. For each word in the vocabulary, we have a count of how often it appears in each document. That means our numeric representation has one feature for each unique word in the whole dataset."
   ]
  },
  {
   "cell_type": "code",
   "execution_count": 21,
   "id": "020fe44f-efc5-4067-9044-3c35c762af64",
   "metadata": {},
   "outputs": [],
   "source": [
    "vect = CountVectorizer().fit(train_text)\n"
   ]
  },
  {
   "cell_type": "code",
   "execution_count": 22,
   "id": "b6f966f5-79e0-4713-b3ed-5e129db145a3",
   "metadata": {},
   "outputs": [
    {
     "name": "stdout",
     "output_type": "stream",
     "text": [
      "Vocabulary size: 1285\n"
     ]
    }
   ],
   "source": [
    "print(f\"Vocabulary size: {len(vect.vocabulary_)}\")\n",
    "# print(f\"Vocabulary content:\\n {vect.vocabulary_}\")\n"
   ]
  },
  {
   "cell_type": "code",
   "execution_count": 23,
   "id": "a78665a2-59ed-49ee-842e-658d94e35c27",
   "metadata": {},
   "outputs": [
    {
     "name": "stdout",
     "output_type": "stream",
     "text": [
      "bag_of_words: <Compressed Sparse Row sparse matrix of dtype 'int64'\n",
      "\twith 218374 stored elements and shape (15267, 1285)>\n"
     ]
    }
   ],
   "source": [
    "\n",
    "X_train = vect.transform(train_text)\n",
    "X_test = vect.transform(test_text)\n",
    "\n",
    "print(f\"bag_of_words: {repr(X_train)}\")\n"
   ]
  },
  {
   "cell_type": "code",
   "execution_count": 24,
   "id": "b5522ac5-c318-498c-88af-834fff8462cd",
   "metadata": {},
   "outputs": [
    {
     "name": "stdout",
     "output_type": "stream",
     "text": [
      "Number of features: 1285\n",
      "First 20 features:\n",
      "['000' '10' '100' '11' '12' '120mph' '13' '14' '15' '150' '16' '163' '17'\n",
      " '170' '1832' '1860' '1900' '1900s' '1905' '1920']\n",
      "Features 1280 to 1284:\n",
      "['you' 'your' 'zealanders' 'zero']\n",
      "Every 200th feature:\n",
      "['000' 'billions' 'egypt' 'individual' 'on' 'sense' 'until']\n"
     ]
    }
   ],
   "source": [
    "feature_names = vect.get_feature_names_out()\n",
    "print(\"Number of features: {}\".format(len(feature_names)))\n",
    "print(\"First 20 features:\\n{}\".format(feature_names[:20]))\n",
    "print(\"Features 1280 to 1284:\\n{}\".format(feature_names[1280:1284]))\n",
    "print(\"Every 200th feature:\\n{}\".format(feature_names[::200]))\n"
   ]
  },
  {
   "cell_type": "code",
   "execution_count": 25,
   "id": "7c7d00dc-ea23-410f-91ab-d5ee19364588",
   "metadata": {},
   "outputs": [
    {
     "name": "stdout",
     "output_type": "stream",
     "text": [
      "Mean cross-validation accuracy: 1.00\n"
     ]
    }
   ],
   "source": [
    "from sklearn.model_selection import cross_val_score\n",
    "from sklearn.linear_model import LogisticRegression\n",
    "\n",
    "scores = cross_val_score(LogisticRegression(), X_train, y_train, cv=7)\n",
    "print(\"Mean cross-validation accuracy: {:.2f}\".format(np.mean(scores)))\n"
   ]
  },
  {
   "cell_type": "code",
   "execution_count": 26,
   "id": "a45c334e-72e1-4e17-857c-719ae2ea5a4b",
   "metadata": {},
   "outputs": [
    {
     "data": {
      "text/plain": [
       "1.0"
      ]
     },
     "execution_count": 26,
     "metadata": {},
     "output_type": "execute_result"
    }
   ],
   "source": [
    "lr = LogisticRegression().fit(X_train, y_train)\n",
    "lr.score(X_test, y_test)"
   ]
  },
  {
   "cell_type": "markdown",
   "id": "88f7d74d-c65c-4f72-a81d-460e5f93f704",
   "metadata": {},
   "source": [
    "### Improving Tokenization\n",
    "The `CountVectorizer` extracts tokens using a regular expression. By default, the regular expression that is\n",
    "used is \"\\b\\w\\w+\\b\".  It finds all sequences of characters that consist of at least two letters or numbers.<br>\n",
    "This simple mechanism works quite well in practice, but as we saw earlier, we get\n",
    "many uninformative features (like the numbers). One way to cut back on these is to\n",
    "only use tokens that appear in at least two documents (or at least five documents, and\n",
    "so on). A token that appears only in a single document is unlikely to appear in the test\n",
    "set and is therefore not helpful. We can set the minimum number of documents a\n",
    "token needs to appear in with the `min_df` parameter:\n"
   ]
  },
  {
   "cell_type": "code",
   "execution_count": 27,
   "id": "9188bf69-ef50-4a26-8eb1-108d8e6b23e6",
   "metadata": {},
   "outputs": [
    {
     "name": "stdout",
     "output_type": "stream",
     "text": [
      "X_train with min_df: <Compressed Sparse Row sparse matrix of dtype 'int64'\n",
      "\twith 218374 stored elements and shape (15267, 1285)>\n"
     ]
    }
   ],
   "source": [
    "vect = CountVectorizer(min_df=5).fit(train_text)\n",
    "X_train = vect.transform(train_text)\n",
    "print(\"X_train with min_df: {}\".format(repr(X_train)))\n"
   ]
  },
  {
   "cell_type": "markdown",
   "id": "7d9d8bd3-033f-4351-a5d9-221d2d390a2e",
   "metadata": {},
   "source": [
    "No change in our case but it should work in other applications."
   ]
  },
  {
   "cell_type": "markdown",
   "id": "0651f389-6ea1-4d5f-bf85-b3fb2fc4f48b",
   "metadata": {},
   "source": [
    "### Stopwords\n",
    "Another way that we can get rid of uninformative words is by discarding words that\n",
    "are too frequent to be informative. There are two main approaches: using a languagespecific list of stopwords, or discarding words that appear too frequently. `scikitlearn` has a built-in list of English stopwords in the `feature_extraction.text`\n",
    "module:\n"
   ]
  },
  {
   "cell_type": "code",
   "execution_count": 28,
   "id": "67c27a94-7b3d-49d0-8277-4031ce5b6406",
   "metadata": {},
   "outputs": [
    {
     "name": "stdout",
     "output_type": "stream",
     "text": [
      "Number of stop words: 318\n",
      "Every 10th stopword:\n",
      "['the', 'enough', 'back', 'everyone', 'third', 'wherein', 'herself', 'please', 'yourselves', 'otherwise', 'thereby', 'sometimes', 'bill', 'therein', 'anyway', 'now', 'seems', 'thru', 'without', 'hereby', 'such', 'co', 'do', 'and', 'up', 'twenty', 'noone', 'move', 'somehow', 'all', 'sixty', 'might']\n"
     ]
    }
   ],
   "source": [
    "from sklearn.feature_extraction.text import ENGLISH_STOP_WORDS\n",
    "\n",
    "print(\"Number of stop words: {}\".format(len(ENGLISH_STOP_WORDS)))\n",
    "print(\"Every 10th stopword:\\n{}\".format(list(ENGLISH_STOP_WORDS)[::10]))\n"
   ]
  },
  {
   "cell_type": "code",
   "execution_count": 29,
   "id": "bd25812c-4d64-41cc-9962-8d3bfb4f9d1a",
   "metadata": {},
   "outputs": [
    {
     "name": "stdout",
     "output_type": "stream",
     "text": [
      "X_train without stop words:\n",
      "<Compressed Sparse Row sparse matrix of dtype 'int64'\n",
      "\twith 122244 stored elements and shape (15267, 1151)>\n"
     ]
    }
   ],
   "source": [
    "vect = CountVectorizer(min_df=5, stop_words=\"english\").fit(train_text)\n",
    "X_train = vect.transform(train_text)\n",
    "print(\"X_train without stop words:\\n{}\".format(repr(X_train)))\n"
   ]
  },
  {
   "cell_type": "markdown",
   "id": "2078d313-3e7d-4d11-b232-dea524c3706a",
   "metadata": {},
   "source": [
    "## Rescaling the Data with tf–idf (term frequency–inverse document frequency)\n",
    "The intuition of this method is to give high weight to any term that appears\n",
    "often in a particular document, but not in many documents in the corpus. If a word\n",
    "appears often in a particular document, but not in very many documents, it is likely\n",
    "to be very descriptive of the content of that document. `scikit-learn` implements the\n",
    "**tf–idf** method in two classes: `TfidfTransformer`, which takes in the sparse matrix\n",
    "output produced by `CountVectorizer` and transforms it, and `TfidfVectorizer`,\n",
    "which takes in the text data and does both the bag-of-words feature extraction and\n",
    "the tf–idf transformation.\n",
    "\n",
    "<left><img src=\"../Assets/2- tf-idf Formula.png\" width=700></left>\n"
   ]
  },
  {
   "cell_type": "code",
   "execution_count": 30,
   "id": "c778830e-990c-4938-9dba-3a1846bb9d37",
   "metadata": {},
   "outputs": [
    {
     "name": "stdout",
     "output_type": "stream",
     "text": [
      "Best cross-validation score: 1.00\n"
     ]
    }
   ],
   "source": [
    "from sklearn.feature_extraction.text import TfidfVectorizer\n",
    "from sklearn.pipeline import make_pipeline\n",
    "\n",
    "pipe = make_pipeline(TfidfVectorizer(min_df=5, norm=None), LogisticRegression())\n",
    "param_grid = {'logisticregression__C': [0.001, 0.01, 0.1, 1, 10]}\n",
    "grid = GridSearchCV(pipe, param_grid, cv=5)\n",
    "\n",
    "grid.fit(train_text, y_train)\n",
    "print(\"Best cross-validation score: {:.2f}\".format(grid.best_score_))\n"
   ]
  },
  {
   "cell_type": "code",
   "execution_count": 31,
   "id": "4c8c4512-5443-4604-90fd-c7702739a2b3",
   "metadata": {},
   "outputs": [
    {
     "name": "stdout",
     "output_type": "stream",
     "text": [
      "Features with lowest tfidf:\n",
      "['my' 'that' 'claim' 'read' 'learned' 'media' 'colleague' 'family'\n",
      " 'colleagues' 'news' 'has' 'than' 'earth' 'only' 'willing' 'and' 'have'\n",
      " 'view' 'will' 'more']\n",
      "Features with highest tfidf: \n",
      "['population' 'them' 'located' 'water' 'fear' 'french' 'banana' 'who'\n",
      " 'pound' 'usd' 'worth' 'pineapple' 'jobs' 'baked' 'metro' 'sales'\n",
      " 'language' 'king' 'rainbow' 'pumpkins']\n"
     ]
    }
   ],
   "source": [
    "vectorizer = grid.best_estimator_.named_steps[\"tfidfvectorizer\"]\n",
    "# transform the training dataset\n",
    "X_train = vectorizer.transform(train_text)\n",
    "# find maximum value for each of the features over the dataset\n",
    "max_value = X_train.max(axis=0).toarray().ravel()\n",
    "sorted_by_tfidf = max_value.argsort()\n",
    "# get feature names\n",
    "feature_names = np.array(vectorizer.get_feature_names_out())\n",
    "print(\"Features with lowest tfidf:\\n{}\".format(\n",
    " feature_names[sorted_by_tfidf[:20]]))\n",
    "print(\"Features with highest tfidf: \\n{}\".format(\n",
    " feature_names[sorted_by_tfidf[-20:]]))\n"
   ]
  },
  {
   "cell_type": "markdown",
   "id": "2899a3ec-107a-42eb-98ca-f4fe6dd2d14b",
   "metadata": {},
   "source": [
    "Features with low tf–idf are those that either are very commonly used across documents or are only used sparingly, and only in very long documents."
   ]
  },
  {
   "cell_type": "code",
   "execution_count": 36,
   "id": "8c0a3f6e-b809-4df5-bcc2-6baba254a69b",
   "metadata": {},
   "outputs": [
    {
     "data": {
      "text/plain": [
       "{'mean_fit_time': array([0.39159985, 0.25340223, 0.27780261, 0.29040675, 0.3118011 ]),\n",
       " 'std_fit_time': array([0.20225649, 0.01986679, 0.05940188, 0.05831516, 0.0738312 ]),\n",
       " 'mean_score_time': array([0.07759972, 0.0551971 , 0.05079699, 0.05699172, 0.05420198]),\n",
       " 'std_score_time': array([0.03074194, 0.00892962, 0.00811024, 0.01538086, 0.00560307]),\n",
       " 'param_logisticregression__C': masked_array(data=[0.001, 0.01, 0.1, 1.0, 10.0],\n",
       "              mask=[False, False, False, False, False],\n",
       "        fill_value=1e+20),\n",
       " 'params': [{'logisticregression__C': 0.001},\n",
       "  {'logisticregression__C': 0.01},\n",
       "  {'logisticregression__C': 0.1},\n",
       "  {'logisticregression__C': 1},\n",
       "  {'logisticregression__C': 10}],\n",
       " 'split0_test_score': array([1., 1., 1., 1., 1.]),\n",
       " 'split1_test_score': array([1., 1., 1., 1., 1.]),\n",
       " 'split2_test_score': array([1., 1., 1., 1., 1.]),\n",
       " 'split3_test_score': array([1., 1., 1., 1., 1.]),\n",
       " 'split4_test_score': array([1., 1., 1., 1., 1.]),\n",
       " 'mean_test_score': array([1., 1., 1., 1., 1.]),\n",
       " 'std_test_score': array([0., 0., 0., 0., 0.]),\n",
       " 'rank_test_score': array([1, 1, 1, 1, 1], dtype=int32)}"
      ]
     },
     "execution_count": 36,
     "metadata": {},
     "output_type": "execute_result"
    }
   ],
   "source": [
    "grid.cv_results_"
   ]
  },
  {
   "cell_type": "code",
   "execution_count": 22,
   "id": "55845b0c-241c-43ff-8078-fc5944b77b9c",
   "metadata": {},
   "outputs": [
    {
     "name": "stdout",
     "output_type": "stream",
     "text": [
      "Features with lowest idf:\n",
      "['that' 'the' 'is' 'my' 'in' 'of' 'on' 'to' 'are' 'claim' 'read' 'learned'\n",
      " 'someone' 'media' 'friend' 'colleague' 'discovered' 'an' 'friends'\n",
      " 'world' 'family' 'colleagues' 'from' 'can' 'news' 'has' 'our' 'than' 'by'\n",
      " 'earth' 'only' 'willing' 'internet' 'their' 'and' 'there' 'was' 'have'\n",
      " 'view' 'first' 'will' 'more' 'be' 'for' 'around' 'most' 'over' 'it'\n",
      " 'website' 'online' 'forum' 'revealed' 'discussion' 'board' 'social'\n",
      " 'opinion' 'one' 'were' 'say' 'with' 'as' 'average' 'humans' 'car'\n",
      " 'system' 'largest' 'day' 'claiming' 'about' 'mentioning' 'impression'\n",
      " 'at' 'year' 'people' 'understanding' 'moon' 'position' 'thinking'\n",
      " 'sentiment' 'hypothesis' 'times' 'belief' 'feeling' 'time' 'number'\n",
      " 'solar' 'point' 'american' 'reasoning' 'two' 'planet' 'every' 'wager'\n",
      " 'days' 'up' 'convinced' 'longest' 'never' 'when' 'single']\n"
     ]
    }
   ],
   "source": [
    "sorted_by_idf = np.argsort(vectorizer.idf_)\n",
    "print(\"Features with lowest idf:\\n{}\".format(\n",
    " feature_names[sorted_by_idf[:100]]))\n"
   ]
  },
  {
   "cell_type": "markdown",
   "id": "3fbebbd6-2ff5-4e70-8ca6-c969afc260fb",
   "metadata": {},
   "source": [
    "### Investigating Model Coefficients\n"
   ]
  },
  {
   "cell_type": "code",
   "execution_count": 23,
   "id": "769b176b-7dc7-473f-9682-5509ddc498f5",
   "metadata": {},
   "outputs": [],
   "source": [
    "import tools"
   ]
  },
  {
   "cell_type": "code",
   "execution_count": 24,
   "id": "8786314e-6b84-4fd0-b8de-b60f0d9a0d11",
   "metadata": {},
   "outputs": [
    {
     "data": {
      "image/png": "[encoded data removed]",
      "text/plain": [
       "<Figure size 1500x500 with 1 Axes>"
      ]
     },
     "metadata": {},
     "output_type": "display_data"
    }
   ],
   "source": [
    "tools.visualize_coefficients( grid.best_estimator_.named_steps[\"logisticregression\"].coef_,\n",
    " feature_names, n_top_features=40)"
   ]
  },
  {
   "cell_type": "markdown",
   "id": "f99805c3-bc1f-473e-a8a3-19568a995fe4",
   "metadata": {},
   "source": [
    "## Bag-of-Words with More Than One Word (n-Grams)\n",
    "One of the main disadvantages of using a bag-of-words representation is that word\n",
    "order is completely discarded. Therefore, the two strings “it’s bad, not good at all” and\n",
    "“it’s good, not bad at all” have exactly the same representation, even though the mean‐\n",
    "ings are inverted. Putting “not” in front of a word is only one example (if an extreme\n",
    "one) of how context matters. Fortunately, there is a way of capturing context when\n",
    "using a bag-of-words representation, by not only considering the counts of single\n",
    "tokens, but also the counts of pairs or triplets of tokens that appear next to each other.\n",
    "Pairs of tokens are known as bigrams, triplets of tokens are known as trigrams, and\n",
    "more generally sequences of tokens are known as n-grams. We can change the range\n",
    "of tokens that are considered as features by changing the `ngram_range` parameter of\n",
    "`CountVectorizer` or `TfidfVectorizer`. The `ngram_range` parameter is a tuple, consisting of the minimum length and the maximum length of the sequences of tokens that are considered."
   ]
  },
  {
   "cell_type": "code",
   "execution_count": 34,
   "id": "c62a753f-27c2-4697-b99e-75a3e966add5",
   "metadata": {},
   "outputs": [
    {
     "name": "stdout",
     "output_type": "stream",
     "text": [
      "Vocabulary size: 10662\n",
      "Vocabulary:\n",
      "['000' '000 calories' '000 calories in' ... 'zones' 'zones around'\n",
      " 'zones around the']\n"
     ]
    }
   ],
   "source": [
    "\n",
    "cv = CountVectorizer(ngram_range=(1, 3)).fit(train_text)\n",
    "print(\"Vocabulary size: {}\".format(len(cv.vocabulary_)))\n",
    "print(\"Vocabulary:\\n{}\".format(cv.get_feature_names_out()))\n"
   ]
  },
  {
   "cell_type": "markdown",
   "id": "500a4bdf-4d7e-4af0-9caa-e441bf41aafd",
   "metadata": {},
   "source": [
    "## Advanced Tokenization, Stemming, and Lemmatization\n",
    "The feature extraction in the `CountVectorizer` and `Tfidf\n",
    "Vectorizer` is relatively simple, and much more elaborate methods are possible.<br>\n",
    "We saw earlier that the vocabulary often contains singular and plural versions of\n",
    "some words, as in \"drawback\" and \"drawbacks\", \"drawer\" and \"drawers\", and\n",
    "\"drawing\" and \"drawings\". For the purposes of a bag-of-words model, the semantics\n",
    "of \"drawback\" and \"drawbacks\" are so close that distinguishing them will only\n",
    "increase overfitting, and not allow the model to fully exploit the training data. \n",
    "Similarly, we found the vocabulary includes words like \"replace\", \"replaced\", \"replace\n",
    "ment\", \"replaces\", and \"replacing\", which are different verb forms and a noun\n",
    "relating to the verb “to replace.” Similarly to having singular and plural forms of a\n",
    "noun, treating different verb forms and related words as distinct tokens is \n",
    "disadvantageous for building a model that generalizes well.<br>\n",
    "\n",
    "This problem can be overcome by representing each word using its word stem, which\n",
    "involves identifying (or conflating) all the words that have the same word stem.\n",
    "- If this is done by using a rule-based heuristic, like dropping common suffixes, it is usually\n",
    "referred to as **stemming**.\n",
    "- If instead a dictionary of known word forms is used (an explicit and human-verified system), and the role of the word in the sentence is taken into account, the process is referred to as **lemmatization** and the standardized form of\n",
    "the word is referred to as the **lemma**.<br>\n",
    "\n",
    "Both processing methods, **lemmatization** and\n",
    "**stemming**, are forms of **normalization** that try to extract some normal form of a\n",
    "word. In general, lemmatization is a much more involved process than stemming, but it usually produces better results than stemming when used for normalizing tokens for machine learning.<br>\n",
    "\n",
    "Another interesting case of normalization is spelling correction, which can be\n",
    "helpful in practice."
   ]
  },
  {
   "cell_type": "code",
   "execution_count": null,
   "id": "e29dac5a-4c1f-4879-ad09-5d430718668b",
   "metadata": {},
   "outputs": [],
   "source": []
  }
 ],
 "metadata": {
  "kernelspec": {
   "display_name": "Python 3 (ipykernel)",
   "language": "python",
   "name": "python3"
  },
  "language_info": {
   "codemirror_mode": {
    "name": "ipython",
    "version": 3
   },
   "file_extension": ".py",
   "mimetype": "text/x-python",
   "name": "python",
   "nbconvert_exporter": "python",
   "pygments_lexer": "ipython3",
   "version": "3.10.0"
  }
 },
 "nbformat": 4,
 "nbformat_minor": 5
}
